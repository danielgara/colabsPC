{
  "nbformat": 4,
  "nbformat_minor": 0,
  "metadata": {
    "colab": {
      "name": "Semana-13-Archivos.ipynb",
      "provenance": []
    },
    "kernelspec": {
      "name": "python3",
      "display_name": "Python 3"
    },
    "language_info": {
      "name": "python"
    }
  },
  "cells": [
    {
      "cell_type": "markdown",
      "source": [
        "**Abrir archivos**"
      ],
      "metadata": {
        "id": "ooAGUTdJhAPi"
      }
    },
    {
      "cell_type": "code",
      "execution_count": 1,
      "metadata": {
        "id": "0AU28WKwbpAF"
      },
      "outputs": [],
      "source": [
        "archivoNotas = open(\"drive/MyDrive/Archivos Colab/notas.txt\")"
      ]
    },
    {
      "cell_type": "markdown",
      "source": [
        "**Leer archivos**"
      ],
      "metadata": {
        "id": "vNF8H2CVhTUi"
      }
    },
    {
      "cell_type": "code",
      "source": [
        "archivoNotas = open(\"drive/MyDrive/Archivos Colab/notas.txt\")\n",
        "contenido = archivoNotas.read()\n",
        "print(contenido)"
      ],
      "metadata": {
        "colab": {
          "base_uri": "https://localhost:8080/"
        },
        "id": "yH4KcwGSiCaS",
        "outputId": "23c89dde-f156-4eaa-eace-1920a80e2402"
      },
      "execution_count": 2,
      "outputs": [
        {
          "output_type": "stream",
          "name": "stdout",
          "text": [
            "3,4,4.4\n"
          ]
        }
      ]
    },
    {
      "cell_type": "markdown",
      "source": [
        "**Separar por comas – split()**"
      ],
      "metadata": {
        "id": "Xx46zNNPiV65"
      }
    },
    {
      "cell_type": "code",
      "source": [
        "archivoNotas = open(\"drive/MyDrive/Archivos Colab/notas.txt\")\n",
        "contenido = archivoNotas.read()\n",
        "notas = contenido.split(\",\")\n",
        "print(notas)\n",
        "print(notas[0])\n",
        "print(type(notas[0]))"
      ],
      "metadata": {
        "colab": {
          "base_uri": "https://localhost:8080/"
        },
        "id": "9IXRg3mZiW2h",
        "outputId": "865eb4d8-684b-4e20-cc4d-8d39acb72739"
      },
      "execution_count": 3,
      "outputs": [
        {
          "output_type": "stream",
          "name": "stdout",
          "text": [
            "['3', '4', '4.4']\n",
            "3\n",
            "<class 'str'>\n"
          ]
        }
      ]
    },
    {
      "cell_type": "markdown",
      "source": [
        "**Solución ejercicio de clase 1**\n",
        "\n"
      ],
      "metadata": {
        "id": "w91ZEk6gjpvg"
      }
    },
    {
      "cell_type": "code",
      "source": [
        "archivoProductos = open(\"drive/MyDrive/Archivos Colab/productos.txt\")\n",
        "contenido = archivoProductos.read()\n",
        "datosProducto = contenido.split(\",\")\n",
        "nombre = datosProducto[0]\n",
        "precio = datosProducto[1]\n",
        "print(nombre)\n",
        "print(precio)"
      ],
      "metadata": {
        "colab": {
          "base_uri": "https://localhost:8080/"
        },
        "id": "PqAJLlIpjqYg",
        "outputId": "d32a08cc-c612-4d01-ff18-048a558e5940"
      },
      "execution_count": 4,
      "outputs": [
        {
          "output_type": "stream",
          "name": "stdout",
          "text": [
            "Televisor\n",
            "1000\n",
            "\n",
            "\n",
            "\n",
            "\n"
          ]
        }
      ]
    },
    {
      "cell_type": "markdown",
      "source": [
        "**Lectura por líneas**"
      ],
      "metadata": {
        "id": "2kV3jCRak8CX"
      }
    },
    {
      "cell_type": "code",
      "source": [
        "archivoEstudiantes = open(\"drive/MyDrive/Archivos Colab/estudiantes.txt\")\n",
        "contenidoPorLineas = archivoEstudiantes.readlines()\n",
        "\n",
        "i = 0\n",
        "while(i < len(contenidoPorLineas)):\n",
        "  lineaEstudiante = contenidoPorLineas[i].strip()\n",
        "  print(lineaEstudiante)\n",
        "  datosEstudiante = lineaEstudiante.split(\",\")\n",
        "  print(datosEstudiante)\n",
        "  print(datosEstudiante[0])\n",
        "  print(datosEstudiante[1])\n",
        "  print(datosEstudiante[2])\n",
        "  i = i+1"
      ],
      "metadata": {
        "colab": {
          "base_uri": "https://localhost:8080/"
        },
        "id": "LdHW7p21lAgf",
        "outputId": "44473429-a6be-4e2a-d4be-d94683eb794f"
      },
      "execution_count": 6,
      "outputs": [
        {
          "output_type": "stream",
          "name": "stdout",
          "text": [
            "Luis,20,M\n",
            "['Luis', '20', 'M']\n",
            "Luis\n",
            "20\n",
            "M\n",
            "Sara,17,F\n",
            "['Sara', '17', 'F']\n",
            "Sara\n",
            "17\n",
            "F\n",
            "Miguel,21,M\n",
            "['Miguel', '21', 'M']\n",
            "Miguel\n",
            "21\n",
            "M\n"
          ]
        }
      ]
    },
    {
      "cell_type": "markdown",
      "source": [
        "**Solución ejercicio de clase 2**"
      ],
      "metadata": {
        "id": "6mfQ3QwKnomF"
      }
    },
    {
      "cell_type": "code",
      "source": [
        "archivoEstudiantes = open(\"drive/MyDrive/Archivos Colab/estudiantes.txt\")\n",
        "contenidoPorLineas = archivoEstudiantes.readlines()\n",
        "\n",
        "i = 0\n",
        "acumuladorEdades = 0\n",
        "while(i < len(contenidoPorLineas)):\n",
        "  lineaEstudiante = contenidoPorLineas[i].strip()\n",
        "  datosEstudiante = lineaEstudiante.split(\",\")\n",
        "  edad = int(datosEstudiante[1])\n",
        "  acumuladorEdades = acumuladorEdades + edad\n",
        "  i = i+1\n",
        "\n",
        "promedio = acumuladorEdades/len(contenidoPorLineas)\n",
        "print(promedio)"
      ],
      "metadata": {
        "colab": {
          "base_uri": "https://localhost:8080/"
        },
        "id": "j0Ky--oknpId",
        "outputId": "0eb03c87-cad7-4871-82e6-aa68b0d45717"
      },
      "execution_count": 7,
      "outputs": [
        {
          "output_type": "stream",
          "name": "stdout",
          "text": [
            "19.333333333333332\n"
          ]
        }
      ]
    },
    {
      "cell_type": "markdown",
      "source": [
        "**Escribir en Python**"
      ],
      "metadata": {
        "id": "Nk8OM9kcpNQe"
      }
    },
    {
      "cell_type": "code",
      "source": [
        "archivoNotas = open(\"drive/MyDrive/Archivos Colab/notas.txt\")\n",
        "contenido = archivoNotas.read()\n",
        "print(contenido)\n",
        "\n",
        "archivoNotasW = open(\"drive/MyDrive/Archivos Colab/notas.txt\",\"w\")\n",
        "nuevoContenido = contenido + \",5\"\n",
        "print(nuevoContenido)\n",
        "archivoNotasW.write(nuevoContenido)\n",
        "archivoNotasW.close()"
      ],
      "metadata": {
        "colab": {
          "base_uri": "https://localhost:8080/"
        },
        "id": "5ABlSxNmpQYD",
        "outputId": "f3e5c77b-3a1d-47e6-f077-b09a1c36604c"
      },
      "execution_count": 15,
      "outputs": [
        {
          "output_type": "stream",
          "name": "stdout",
          "text": [
            "3,4,4.4,5,5,5\n",
            "3,4,4.4,5,5,5,5\n"
          ]
        }
      ]
    },
    {
      "cell_type": "markdown",
      "source": [
        "**Solución ejercicio de clase 3**"
      ],
      "metadata": {
        "id": "R4Sw_3SRuIPC"
      }
    },
    {
      "cell_type": "code",
      "source": [
        "archivoProd = open(\"drive/MyDrive/Archivos Colab/productos.txt\")\n",
        "contenido = archivoProd.read()\n",
        "datosProducto = contenido.split(\",\")\n",
        "nombre = datosProducto[0]\n",
        "precio = int(datosProducto[1])\n",
        "doblePrecio = precio*2\n",
        "\n",
        "archivoProdW = open(\"drive/MyDrive/Archivos Colab/productos.txt\",\"w\")\n",
        "nuevoContenido = nombre + \",\" + str(doblePrecio)\n",
        "archivoProdW.write(nuevoContenido)\n",
        "archivoProdW.close()"
      ],
      "metadata": {
        "id": "Et9A-AVXuLi3"
      },
      "execution_count": 18,
      "outputs": []
    },
    {
      "cell_type": "markdown",
      "source": [
        "**Borrar un archivo**"
      ],
      "metadata": {
        "id": "1cQDLvvIvLNR"
      }
    },
    {
      "cell_type": "code",
      "source": [
        "import os\n",
        "os.remove(\"drive/MyDrive/Archivos Colab/productos.txt\")"
      ],
      "metadata": {
        "id": "1XQuLVfNvKcX"
      },
      "execution_count": 19,
      "outputs": []
    }
  ]
}